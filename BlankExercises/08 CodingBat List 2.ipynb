{
 "cells": [
  {
   "attachments": {},
   "cell_type": "markdown",
   "metadata": {},
   "source": [
    "# [List 2](https://codingbat.com/python/List-2)\n",
    "---"
   ]
  },
  {
   "cell_type": "code",
   "execution_count": null,
   "metadata": {},
   "outputs": [],
   "source": [
    "# Count Evens\n",
    "\n",
    "\"\"\"Return the number of even ints in the given array. \n",
    "Note: the % \"mod\" operator computes the remainder, \n",
    "e.g. 5 % 2 is 1.\"\"\"\n",
    "\n",
    "\n",
    "def count_evens(nums):\n",
    "    pass\n",
    "\n",
    "\n",
    "print(count_evens([2, 1, 2, 3, 4]))  # → 3\n",
    "print(count_evens([2, 2, 0]))  # → 3\n",
    "print(count_evens([1, 3, 5]))  # → 0"
   ]
  },
  {
   "cell_type": "code",
   "execution_count": null,
   "metadata": {},
   "outputs": [],
   "source": [
    "# Big Diff\n",
    "\n",
    "\"\"\"Given an array length 1 or more of ints, return the \n",
    "difference between the largest and smallest values in \n",
    "the array. Note: the built-in min(v1, v2) and max(v1, v2) \n",
    "functions return the smaller or larger of two values.\"\"\"\n",
    "\n",
    "\n",
    "def big_diff(nums):\n",
    "    pass\n",
    "\n",
    "\n",
    "print(big_diff([10, 3, 5, 6]))  # → 7\n",
    "print(big_diff([7, 2, 10, 9]))  # → 8\n",
    "print(big_diff([2, 10, 7, 2]))  # → 8"
   ]
  },
  {
   "cell_type": "code",
   "execution_count": null,
   "metadata": {},
   "outputs": [],
   "source": [
    "# Centered Average\n",
    "\n",
    "\"\"\"Return the \"centered\" average of an array of ints, which \n",
    "we'll say is the mean average of the values, except ignoring \n",
    "the largest and smallest values in the array. If there are multiple \n",
    "copies of the smallest value, ignore just one copy, and likewise \n",
    "for the largest value. Use int division to produce the final average. \n",
    "You may assume that the array is length 3 or more.\"\"\"\n",
    "\n",
    "\n",
    "def centered_average(nums):\n",
    "    pass\n",
    "\n",
    "\n",
    "print(centered_average([1, 2, 3, 4, 100]))  # → 3\n",
    "print(centered_average([1, 1, 5, 5, 10, 8, 7]))  # → 5\n",
    "print(centered_average([-10, -4, -2, -4, -2, 0]))  # → -3"
   ]
  },
  {
   "cell_type": "code",
   "execution_count": null,
   "metadata": {},
   "outputs": [],
   "source": [
    "# Sum 13\n",
    "\n",
    "\"\"\"Return the sum of the numbers in the array, returning 0 for \n",
    "an empty array. Except the number 13 is very unlucky, so it \n",
    "does not count and numbers that come immediately after a 13 \n",
    "also do not count.\"\"\"\n",
    "\n",
    "\n",
    "def sum13(nums):\n",
    "    pass\n",
    "\n",
    "\n",
    "# this seems close to what I was trying to do idk I give up.\n",
    "\n",
    "print(sum13([1, 2, 2, 1]))  # → 6\n",
    "print(sum13([1, 1]))  # → 2\n",
    "print(sum13([1, 2, 2, 1, 13]))  # → 6\n",
    "print(sum13([13, 1, 2, 13, 2, 1, 13]))  # → 3"
   ]
  },
  {
   "cell_type": "code",
   "execution_count": null,
   "metadata": {},
   "outputs": [],
   "source": [
    "# Sum 67\n",
    "\n",
    "\"\"\"Return the sum of the numbers in the array, except \n",
    "ignore sections of numbers starting with a 6 and extending \n",
    "to the next 7 (every 6 will be followed by at least one 7). \n",
    "Return 0 for no numbers.\"\"\"\n",
    "\n",
    "\n",
    "def sum67(nums):\n",
    "    pass\n",
    "\n",
    "\n",
    "print(sum67([1, 2, 2]))  # → 5\n",
    "print(sum67([1, 2, 2, 6, 99, 99, 7]))  # → 5\n",
    "print(sum67([1, 1, 6, 7, 2]))  # → 4"
   ]
  },
  {
   "cell_type": "code",
   "execution_count": null,
   "metadata": {},
   "outputs": [],
   "source": [
    "# Has 22\n",
    "\n",
    "\"\"\"Given an array of ints, return True if the array \n",
    "contains a 2 next to a 2 somewhere.\"\"\"\n",
    "\n",
    "\n",
    "def has22(nums):\n",
    "    pass\n",
    "\n",
    "\n",
    "print(has22([1, 2, 2]))  # → True\n",
    "print(has22([1, 2, 1, 2]))  # → False\n",
    "print(has22([2, 1, 2]))  # → False"
   ]
  }
 ],
 "metadata": {
  "kernelspec": {
   "display_name": "Python 3",
   "language": "python",
   "name": "python3"
  },
  "language_info": {
   "codemirror_mode": {
    "name": "ipython",
    "version": 3
   },
   "file_extension": ".py",
   "mimetype": "text/x-python",
   "name": "python",
   "nbconvert_exporter": "python",
   "pygments_lexer": "ipython3",
   "version": "3.11.1"
  },
  "orig_nbformat": 4
 },
 "nbformat": 4,
 "nbformat_minor": 2
}
