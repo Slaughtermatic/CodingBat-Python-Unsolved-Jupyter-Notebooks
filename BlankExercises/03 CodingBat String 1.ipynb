{
 "cells": [
  {
   "attachments": {},
   "cell_type": "markdown",
   "metadata": {},
   "source": [
    "# [String 1](https://codingbat.com/python/String-1)\n",
    "---"
   ]
  },
  {
   "cell_type": "code",
   "execution_count": null,
   "metadata": {},
   "outputs": [],
   "source": [
    "# Hello Name\n",
    "\n",
    "\"\"\"Given a string name, e.g. \"Bob\", \n",
    "returns a greeting of the form \n",
    "\"Hello Bob!\".\"\"\"\n",
    "\n",
    "\n",
    "def hello_name(name):\n",
    "    pass\n",
    "\n",
    "\n",
    "print(hello_name(\"Bob\"))  # → 'Hello Bob!'\n",
    "print(hello_name(\"Alice\"))  # → 'Hello Alice!'\n",
    "print(hello_name(\"X\"))  #  → 'Hello X!'"
   ]
  },
  {
   "cell_type": "code",
   "execution_count": null,
   "metadata": {},
   "outputs": [],
   "source": [
    "# Make Abba\n",
    "\n",
    "\"\"\"Given two strings, a and b, returns \n",
    "the result of putting them together in \n",
    "the order abba, e.g. \"Hi\" and \"Bye\" returns \n",
    "\"HiByeByeHi\".\"\"\"\n",
    "\n",
    "\n",
    "def make_abba(a, b):\n",
    "    pass\n",
    "\n",
    "\n",
    "print(make_abba(\"Hi\", \"Bye\"))  # → 'HiByeByeHi'\n",
    "print(make_abba(\"Yo\", \"Alice\"))  # → 'YoAliceAliceYo'\n",
    "print(make_abba(\"What\", \"Up\"))  # → 'WhatUpUpWhat'"
   ]
  },
  {
   "cell_type": "code",
   "execution_count": null,
   "metadata": {},
   "outputs": [],
   "source": [
    "# Make Tags\n",
    "\n",
    "\"\"\"The web is built with HTML strings like \n",
    "\"<i>Yay</i>\" which draws Yay as italic text. \n",
    "In this example, the \"i\" tag makes <i> and </i> \n",
    "which surround the word \"Yay\". Given tag and word \n",
    "strings, create the HTML string with tags around \n",
    "the word, e.g. \"<i>Yay</i>\".\"\"\"\n",
    "\n",
    "\n",
    "def make_tags(tag, word):\n",
    "    pass\n",
    "\n",
    "\n",
    "print(make_tags(\"i\", \"Yay\"))  # → '<i>Yay</i>'\n",
    "print(make_tags(\"i\", \"Hello\"))  # → '<i>Hello</i>'\n",
    "print(make_tags(\"cite\", \"Yay\"))  # → '<cite>Yay</cite>'"
   ]
  },
  {
   "cell_type": "code",
   "execution_count": null,
   "metadata": {},
   "outputs": [],
   "source": [
    "# Make out Word\n",
    "\n",
    "\"\"\"Given an \"out\" string length 4, such as \"<<>>\", and a word,\n",
    "    returns a new string where the word is in the middle of the out\n",
    "    string, e.g. \"<<word>>\".\"\"\"\n",
    "\n",
    "\n",
    "def make_out_word(out, word):\n",
    "    pass\n",
    "\n",
    "\n",
    "print(make_out_word(\"<<>>\", \"Yay\"))  # → '<<Yay>>'\n",
    "print(make_out_word(\"<<>>\", \"WooHoo\"))  # → '<<WooHoo>>'\n",
    "print(make_out_word(\"[[]]\", \"word\"))  # → '[[word]]'"
   ]
  },
  {
   "cell_type": "code",
   "execution_count": null,
   "metadata": {},
   "outputs": [],
   "source": [
    "# Extra End\n",
    "\n",
    "\"\"\"Given a string, returns a new string made of 3\n",
    "    copies of the last 2 chars of the original string.\n",
    "    The string length will be at least 2.\"\"\"\n",
    "\n",
    "\n",
    "def extra_end(str):\n",
    "    pass\n",
    "\n",
    "\n",
    "print(extra_end(\"Hello\"))  # → 'lololo'\n",
    "print(extra_end(\"ab\"))  # → 'ababab'\n",
    "print(extra_end(\"Hi\"))  # → 'HiHiHi'"
   ]
  },
  {
   "cell_type": "code",
   "execution_count": null,
   "metadata": {},
   "outputs": [],
   "source": [
    "# First Two\n",
    "\n",
    "\"\"\"Given a string, returns the string made of its \n",
    "first two chars, so the String \"Hello\" yields \"He\".\n",
    "    If the string is shorter than length 2, return \n",
    "    whatever there is, so \"X\" yields \"X\",\n",
    "    and the empty string \"\" yields the empty string \"\".\"\"\"\n",
    "\n",
    "\n",
    "def first_two(str):\n",
    "    pass\n",
    "\n",
    "\n",
    "print(first_two(\"Hello\"))  # → 'He'\n",
    "print(first_two(\"abcdefg\"))  # → 'ab'\n",
    "print(first_two(\"ab\"))  # → 'ab'"
   ]
  },
  {
   "cell_type": "code",
   "execution_count": null,
   "metadata": {},
   "outputs": [],
   "source": [
    "# First Half\n",
    "\n",
    "\"\"\"Given a string of even length, return the first half.\"\"\"\n",
    "\n",
    "\n",
    "def first_half(str):\n",
    "    pass\n",
    "\n",
    "\n",
    "print(first_half(\"WooHoo\"))  # → 'Woo'\n",
    "print(first_half(\"HelloThere\"))  # → 'Hello'\n",
    "print(first_half(\"abcdef\"))  # → 'abc'"
   ]
  },
  {
   "cell_type": "code",
   "execution_count": null,
   "metadata": {},
   "outputs": [],
   "source": [
    "# Without End\n",
    "\n",
    "\"\"\"Given a string, return a version without the first and last char.\"\"\"\n",
    "\n",
    "\n",
    "def without_end(str):\n",
    "    pass\n",
    "\n",
    "\n",
    "print(without_end(\"Hello\"))  # → 'ell'\n",
    "print(without_end(\"java\"))  # → 'av'\n",
    "print(without_end(\"coding\"))  # → 'odin'"
   ]
  },
  {
   "cell_type": "code",
   "execution_count": null,
   "metadata": {},
   "outputs": [],
   "source": [
    "# Combo String\n",
    "\n",
    "\"\"\"Given 2 strings, a and b, return a string of the form short+long+short, \n",
    "with the shorter string on the outside and the longer string on the inside.\"\"\"\n",
    "\n",
    "\n",
    "def combo_string(a, b):\n",
    "    pass\n",
    "\n",
    "\n",
    "print(combo_string(\"Hello\", \"hi\"))  # → 'hiHellohi'\n",
    "print(combo_string(\"hi\", \"Hello\"))  # → 'hiHellohi'\n",
    "print(combo_string(\"aaa\", \"b\"))  # → 'baaab'"
   ]
  },
  {
   "cell_type": "code",
   "execution_count": null,
   "metadata": {},
   "outputs": [],
   "source": [
    "# Non Start\n",
    "\n",
    "\"\"\"Given 2 strings, return their concatenation, except omit the first char of each.\"\"\"\n",
    "\n",
    "\n",
    "def non_start(a, b):\n",
    "    pass\n",
    "\n",
    "\n",
    "print(non_start(\"Hello\", \"There\"))  # → 'ellohere'\n",
    "print(non_start(\"java\", \"code\"))  # → 'avaode'\n",
    "print(non_start(\"shotl\", \"java\"))  # → 'hotlava'"
   ]
  },
  {
   "cell_type": "code",
   "execution_count": null,
   "metadata": {},
   "outputs": [],
   "source": [
    "# Left2\n",
    "\n",
    "\"\"\"Given a string, return a \"rotated left 2\" version where the first 2 chars are moved to the end.\"\"\"\n",
    "\n",
    "\n",
    "def left2(str):\n",
    "    pass\n",
    "\n",
    "\n",
    "print(left2(\"Hello\"))  # → 'lloHe'\n",
    "print(left2(\"java\"))  # → 'vaja'\n",
    "print(left2(\"Hi\"))  # → 'Hi'"
   ]
  }
 ],
 "metadata": {
  "kernelspec": {
   "display_name": "Python 3",
   "language": "python",
   "name": "python3"
  },
  "language_info": {
   "codemirror_mode": {
    "name": "ipython",
    "version": 3
   },
   "file_extension": ".py",
   "mimetype": "text/x-python",
   "name": "python",
   "nbconvert_exporter": "python",
   "pygments_lexer": "ipython3",
   "version": "3.11.1"
  },
  "orig_nbformat": 4
 },
 "nbformat": 4,
 "nbformat_minor": 2
}
