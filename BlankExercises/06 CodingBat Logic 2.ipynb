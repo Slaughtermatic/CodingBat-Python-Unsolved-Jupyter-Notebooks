{
 "cells": [
  {
   "attachments": {},
   "cell_type": "markdown",
   "metadata": {},
   "source": [
    "## [Logic 2](https://codingbat.com/python/Logic-2)\n",
    "\n",
    "### [Introduction to MakeBricks](https://codingbat.com/doc/practice/makebricks-introduction.html)\n",
    "---"
   ]
  },
  {
   "cell_type": "code",
   "execution_count": null,
   "metadata": {},
   "outputs": [],
   "source": [
    "# Make Bricks\n",
    "\n",
    "\"\"\"We want to make a row of bricks that is goal inches long. \n",
    "We have a number of small bricks (1 inch each) and big bricks \n",
    "(5 inches each). Return True if it is possible to make the goal \n",
    "by choosing from the given bricks. This is a little harder than \n",
    "it looks and can be done without any loops. See also: Introduction \n",
    "to MakeBricks link in header\"\"\"\n",
    "\n",
    "\n",
    "def make_bricks(small, big, goal):\n",
    "    pass\n",
    "\n",
    "\n",
    "print(make_bricks(3, 1, 8))  # → True\n",
    "print(make_bricks(3, 1, 9))  # → False\n",
    "print(make_bricks(3, 2, 10))  # → True"
   ]
  },
  {
   "cell_type": "code",
   "execution_count": null,
   "metadata": {},
   "outputs": [],
   "source": [
    "# Lone Sum\n",
    "\n",
    "\"\"\"Given 3 int values, a b c, return their sum. \n",
    "However, if one of the values is the same as \n",
    "another of the values, it does not count towards \n",
    "the sum.\"\"\"\n",
    "\n",
    "\n",
    "def lone_sum(a, b, c):\n",
    "    pass\n",
    "\n",
    "\n",
    "print(lone_sum(1, 2, 3))  # → 6\n",
    "print(lone_sum(3, 2, 3))  # → 2\n",
    "print(lone_sum(3, 3, 3))  # → 0"
   ]
  },
  {
   "cell_type": "code",
   "execution_count": null,
   "metadata": {},
   "outputs": [],
   "source": [
    "# Lucky Sum\n",
    "\n",
    "\"\"\"Given 3 int values, a b c, return their sum. \n",
    "However, if one of the values is 13 then it does \n",
    "not count towards the sum and values to its right \n",
    "do not count. So for example, if b is 13, then \n",
    "both b and c do not count.\"\"\"\n",
    "\n",
    "\n",
    "def lucky_sum(a, b, c):\n",
    "    pass\n",
    "\n",
    "\n",
    "print(lucky_sum(1, 2, 3))  # → 6\n",
    "print(lucky_sum(1, 2, 13))  # → 3\n",
    "print(lucky_sum(1, 13, 3))  # → 1"
   ]
  },
  {
   "cell_type": "code",
   "execution_count": null,
   "metadata": {},
   "outputs": [],
   "source": [
    "# No Teen Sum\n",
    "\n",
    "\"\"\"Given 3 int values, a b c, return their sum. However, \n",
    "if any of the values is a teen -- in the range 13..19 inclusive -- then \n",
    "that value counts as 0, except 15 and 16 do not count as a teens. Write \n",
    "a separate helper \"def fix_teen(n):\"that takes in an int value and returns \n",
    "that value fixed for the teen rule. In this way, you avoid repeating the \n",
    "teen code 3 times (i.e. \"decomposition\"). Define the helper below and at \n",
    "the same indent level as the main no_teen_sum().\"\"\"\n",
    "\n",
    "\n",
    "def fix_teen(n):\n",
    "    pass\n",
    "\n",
    "\n",
    "def no_teen_sum(a, b, c):\n",
    "    pass\n",
    "\n",
    "\n",
    "print(no_teen_sum(1, 2, 3))  # → 6\n",
    "print(no_teen_sum(2, 13, 1))  # → 3\n",
    "print(no_teen_sum(2, 1, 14))  # → 3"
   ]
  },
  {
   "cell_type": "code",
   "execution_count": null,
   "metadata": {},
   "outputs": [],
   "source": [
    "# Round Sum\n",
    "\n",
    "\"\"\"For this problem, we'll round an int value up to the next \n",
    "multiple of 10 if its rightmost digit is 5 or more, so 15 \n",
    "rounds up to 20. Alternately, round down to the previous multiple \n",
    "of 10 if its rightmost digit is less than 5, so 12 rounds down \n",
    "to 10. Given 3 ints, a b c, return the sum of their rounded values. \n",
    "To avoid code repetition, write a separate helper \"def round10(num):\" \n",
    "and call it 3 times. Write the helper entirely below and at the same \n",
    "indent level as round_sum().\"\"\"\n",
    "\n",
    "\n",
    "def round10(num):\n",
    "    pass\n",
    "\n",
    "\n",
    "def round_sum(a, b, c):\n",
    "    pass\n",
    "\n",
    "\n",
    "print(round_sum(16, 17, 18))  # → 60\n",
    "print(round_sum(12, 13, 14))  # → 30\n",
    "print(round_sum(6, 4, 4))  # → 10"
   ]
  },
  {
   "cell_type": "code",
   "execution_count": null,
   "metadata": {},
   "outputs": [],
   "source": [
    "# Close Far\n",
    "\n",
    "\"\"\"Given three ints, a b c, return True if one of b or c is \n",
    "\"close\" (differing from a by at most 1), while the other is \n",
    "\"far\", differing from both other values by 2 or more. Note: \n",
    "abs(num) computes the absolute value of a number.\"\"\"\n",
    "\n",
    "\n",
    "def close_far(a, b, c):\n",
    "    pass\n",
    "\n",
    "\n",
    "print(close_far(1, 2, 10))  # → True\n",
    "print(close_far(1, 2, 3))  # → False\n",
    "print(close_far(4, 1, 3))  # → True"
   ]
  },
  {
   "cell_type": "code",
   "execution_count": null,
   "metadata": {},
   "outputs": [],
   "source": [
    "# Make Chocolate\n",
    "\n",
    "\"\"\"We want make a package of goal kilos of chocolate. \n",
    "We have small bars (1 kilo each) and big bars (5 kilos each). \n",
    "Return the number of small bars to use, assuming we always use \n",
    "big bars before small bars. Return -1 if it can't be done.\"\"\"\n",
    "\n",
    "\n",
    "def make_chocolate(small, big, goal):\n",
    "    pass\n",
    "\n",
    "\n",
    "print(make_chocolate(4, 1, 9))  # → 4\n",
    "print(make_chocolate(4, 1, 10))  # → -1\n",
    "print(make_chocolate(4, 1, 7))  # → 2"
   ]
  }
 ],
 "metadata": {
  "kernelspec": {
   "display_name": "Python 3",
   "language": "python",
   "name": "python3"
  },
  "language_info": {
   "codemirror_mode": {
    "name": "ipython",
    "version": 3
   },
   "file_extension": ".py",
   "mimetype": "text/x-python",
   "name": "python",
   "nbconvert_exporter": "python",
   "pygments_lexer": "ipython3",
   "version": "3.11.1"
  },
  "orig_nbformat": 4
 },
 "nbformat": 4,
 "nbformat_minor": 2
}
