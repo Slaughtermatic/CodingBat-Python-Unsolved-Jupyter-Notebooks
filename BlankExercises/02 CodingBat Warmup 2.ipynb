{
 "cells": [
  {
   "attachments": {},
   "cell_type": "markdown",
   "metadata": {},
   "source": [
    "# [Warmup 2](https://codingbat.com/python/Warmup-2)\n",
    "---"
   ]
  },
  {
   "cell_type": "code",
   "execution_count": 1,
   "metadata": {},
   "outputs": [],
   "source": [
    "# String Times\n",
    "\n",
    "\"\"\"Given a string and a non-negative int n, \n",
    "return a larger string that is n copies of \n",
    "the original string.\"\"\"\n",
    "\n",
    "\n",
    "def string_times(str, n):\n",
    "    pass\n",
    "\n",
    "\n",
    "string_times(\"Hi\", 2)  # → 'HiHi'\n",
    "string_times(\"Hi\", 3)  # → 'HiHiHi'\n",
    "string_times(\"Hi\", 1)  # → 'Hi'"
   ]
  },
  {
   "cell_type": "code",
   "execution_count": 11,
   "metadata": {},
   "outputs": [],
   "source": [
    "# Front Times\n",
    "\n",
    "\"\"\"Given a string and a non-negative int n, \n",
    "we'll say that the front of the string is the \n",
    "first 3 chars, or whatever is there if the \n",
    "string is less than length 3. Return n copies \n",
    "of the front;\"\"\"\n",
    "\n",
    "\n",
    "def front_times(str, n):\n",
    "    pass\n",
    "\n",
    "\n",
    "front_times(\"Chocolate\", 2)  # → 'ChoCho'\n",
    "front_times(\"Chocolate\", 3)  # → 'ChoChoCho'\n",
    "front_times(\"Abc\", 3)  # → 'AbcAbcAbc'"
   ]
  },
  {
   "cell_type": "code",
   "execution_count": 1,
   "metadata": {},
   "outputs": [],
   "source": [
    "# String Bits\n",
    "\n",
    "\"\"\"Given a string, return a new string made \n",
    "of every other char starting with the first, \n",
    "so \"Hello\" yields \"Hlo\".\"\"\"\n",
    "\n",
    "\n",
    "def string_bits(str):\n",
    "    pass\n",
    "\n",
    "\n",
    "string_bits(\"Hello\")  # → 'Hlo'\n",
    "string_bits(\"Hi\")  # → 'H'\n",
    "string_bits(\"Heeololeo\")  # → 'Hello'"
   ]
  },
  {
   "cell_type": "code",
   "execution_count": 3,
   "metadata": {},
   "outputs": [],
   "source": [
    "# String Splostion\n",
    "\n",
    "\"\"\"Given a non-empty string like \"Code\" \n",
    "return a string like \"CCoCodCode\".\"\"\"\n",
    "\n",
    "\n",
    "def string_splosion(str):\n",
    "    pass\n",
    "\n",
    "\n",
    "string_splosion(\"Code\")  # → 'CCoCodCode'\n",
    "string_splosion(\"abc\")  # → 'aababc'\n",
    "string_splosion(\"ab\")  # → 'aab'"
   ]
  },
  {
   "cell_type": "code",
   "execution_count": 4,
   "metadata": {},
   "outputs": [],
   "source": [
    "# Last 2\n",
    "\n",
    "\"\"\"Given a string, return the count of \n",
    "the number of times that a substring length \n",
    "2 appears in the string and also as the last \n",
    "2 chars of the string, so \"hixxxhi\" yields 1 \n",
    "(we won't count the end substring).\"\"\"\n",
    "\n",
    "\n",
    "def last2(str):\n",
    "    pass\n",
    "\n",
    "\n",
    "last2(\"hixxhi\")  # → 1\n",
    "last2(\"xaxxaxaxx\")  # → 1\n",
    "last2(\"axxxaaxx\")  # → 2"
   ]
  },
  {
   "cell_type": "code",
   "execution_count": 6,
   "metadata": {},
   "outputs": [],
   "source": [
    "# Array Count 9\n",
    "\n",
    "\"\"\"Given an array of ints, return the \n",
    "number of 9's in the array.\"\"\"\n",
    "\n",
    "\n",
    "def array_count9(nums):\n",
    "    pass\n",
    "\n",
    "\n",
    "array_count9([1, 2, 9])  # → 1\n",
    "array_count9([1, 9, 9])  # → 2\n",
    "array_count9([1, 9, 9, 3, 9])  # → 3"
   ]
  },
  {
   "cell_type": "code",
   "execution_count": 7,
   "metadata": {},
   "outputs": [],
   "source": [
    "# Array Front 9\n",
    "\n",
    "\"\"\"Given an array of ints, return True if \n",
    "one of the first 4 elements in the array \n",
    "is a 9. The array length may be less than 4.\"\"\"\n",
    "\n",
    "\n",
    "def array_front9(nums):\n",
    "    pass\n",
    "\n",
    "\n",
    "array_front9([1, 2, 9, 3, 4])  # → True\n",
    "array_front9([1, 2, 3, 4, 9])  # → False\n",
    "array_front9([1, 2, 3, 4, 5])  # → False"
   ]
  },
  {
   "cell_type": "code",
   "execution_count": 8,
   "metadata": {},
   "outputs": [],
   "source": [
    "# Array 123\n",
    "\n",
    "\"\"\"Given an array of ints, return True if \n",
    "the sequence of numbers 1, 2, 3 appears \n",
    "in the array somewhere.\"\"\"\n",
    "\n",
    "\n",
    "def array123(nums):\n",
    "    pass\n",
    "\n",
    "\n",
    "array123([1, 1, 2, 3, 1])  # → True\n",
    "array123([1, 1, 2, 4, 1])  # → False\n",
    "array123([1, 1, 2, 1, 2, 3])  # → True"
   ]
  },
  {
   "cell_type": "code",
   "execution_count": 9,
   "metadata": {},
   "outputs": [],
   "source": [
    "# String Match\n",
    "\n",
    "\"\"\"Given 2 strings, a and b, return the number \n",
    "of the positions where they contain the same \n",
    "length 2 substring. So \"xxcaazz\" and \"xxbaaz\" \n",
    "yields 3, since the \"xx\", \"aa\", and \"az\" substrings \n",
    "appear in the same place in both strings.\"\"\"\n",
    "\n",
    "\n",
    "def string_match(a, b):\n",
    "    pass\n",
    "\n",
    "\n",
    "string_match(\"xxcaazz\", \"xxbaaz\")  # → 3\n",
    "string_match(\"abc\", \"abc\")  # → 2\n",
    "string_match(\"abc\", \"axc\")  # → 0"
   ]
  }
 ],
 "metadata": {
  "kernelspec": {
   "display_name": "Python 3",
   "language": "python",
   "name": "python3"
  },
  "language_info": {
   "codemirror_mode": {
    "name": "ipython",
    "version": 3
   },
   "file_extension": ".py",
   "mimetype": "text/x-python",
   "name": "python",
   "nbconvert_exporter": "python",
   "pygments_lexer": "ipython3",
   "version": "3.11.1"
  },
  "orig_nbformat": 4
 },
 "nbformat": 4,
 "nbformat_minor": 2
}
