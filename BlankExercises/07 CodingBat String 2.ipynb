{
 "cells": [
  {
   "attachments": {},
   "cell_type": "markdown",
   "metadata": {},
   "source": [
    "## [String 2](https://codingbat.com/python/String-2)\n",
    "---"
   ]
  },
  {
   "cell_type": "code",
   "execution_count": null,
   "metadata": {},
   "outputs": [],
   "source": [
    "# Double Char\n",
    "\n",
    "\"\"\"Given a string, return a string where for \n",
    "every char in the original, there are two chars.\"\"\"\n",
    "\n",
    "\n",
    "def double_char(str):\n",
    "    pass\n",
    "\n",
    "\n",
    "print(double_char(\"The\"))  # → 'TThhee'\n",
    "print(double_char(\"AAbb\"))  # → 'AAAAbbbb'\n",
    "print(double_char(\"Hi-There\"))  # → 'HHii--TThheerree'"
   ]
  },
  {
   "cell_type": "code",
   "execution_count": null,
   "metadata": {},
   "outputs": [],
   "source": [
    "# Count Hi\n",
    "\n",
    "\"\"\"Return the number of times that the string \n",
    "\"hi\" appears anywhere in the given string.\"\"\"\n",
    "\n",
    "\n",
    "def count_hi(str):\n",
    "    pass\n",
    "\n",
    "\n",
    "print(count_hi(\"abc hi ho\"))  # → 1\n",
    "print(count_hi(\"ABChi hi\"))  # → 2\n",
    "print(count_hi(\"hihi\"))  # → 2"
   ]
  },
  {
   "cell_type": "code",
   "execution_count": null,
   "metadata": {},
   "outputs": [],
   "source": [
    "# Cat Dog\n",
    "\n",
    "\"\"\"Return True if the string \"cat\" and \"dog\" \n",
    "appear the same number of times in the given string.\"\"\"\n",
    "\n",
    "\n",
    "def cat_dog(str):\n",
    "    pass\n",
    "\n",
    "\n",
    "print(cat_dog(\"catdog\"))  # → True\n",
    "print(cat_dog(\"catcat\"))  # → False\n",
    "print(cat_dog(\"1cat1cadodog\"))  # → True"
   ]
  },
  {
   "cell_type": "code",
   "execution_count": null,
   "metadata": {},
   "outputs": [],
   "source": [
    "# Count Code\n",
    "\n",
    "\"\"\"Return the number of times that the string \"code\" \n",
    "appears anywhere in the given string, except we'll \n",
    "accept any letter for the 'd', so \"cope\" and \"cooe\" count.\"\"\"\n",
    "\n",
    "\n",
    "def count_code(str):\n",
    "    pass\n",
    "\n",
    "\n",
    "print(count_code(\"aaacodebbb\"))  # → 1\n",
    "print(count_code(\"codexxcode\"))  # → 2\n",
    "print(count_code(\"cozexxcope\"))  # → 2"
   ]
  },
  {
   "cell_type": "code",
   "execution_count": null,
   "metadata": {},
   "outputs": [],
   "source": [
    "# End Other\n",
    "\n",
    "\"\"\"Given two strings, return True if either of the strings \n",
    "appears at the very end of the other string, ignoring \n",
    "upper/lower case differences (in other words, the computation \n",
    "should not be \"case sensitive\"). Note: s.lower() returns the \n",
    "lowercase version of a string.\"\"\"\n",
    "\n",
    "\n",
    "def end_other(a, b):\n",
    "    pass\n",
    "\n",
    "\n",
    "print(end_other(\"Hiabc\", \"abc\"))  # → True\n",
    "print(end_other(\"AbC\", \"HiaBc\"))  # → True\n",
    "print(end_other(\"abc\", \"abXabc\"))  # → True\n",
    "print(end_other(\"Hiabc\", \"bc\"))  # → True\n",
    "print(end_other(\"Z\", \"12xz\"))  # → True"
   ]
  },
  {
   "cell_type": "code",
   "execution_count": null,
   "metadata": {},
   "outputs": [],
   "source": [
    "# XYZ There\n",
    "\n",
    "\"\"\"Return True if the given string contains an appearance \n",
    "of \"xyz\" where the xyz is not directly preceeded by a period \n",
    "(.). So \"xxyz\" counts but \"x.xyz\" does not.\"\"\"\n",
    "\n",
    "\n",
    "def xyz_there(str):\n",
    "    pass\n",
    "\n",
    "\n",
    "print(xyz_there(\"abcxyz\"))  # → True\n",
    "print(xyz_there(\"abc.xyz\"))  # → False\n",
    "print(xyz_there(\"xyz.abc\"))  # → True\n",
    "print(xyz_there(\"abc.xyzxyz\"))  # → True"
   ]
  }
 ],
 "metadata": {
  "kernelspec": {
   "display_name": "Python 3",
   "language": "python",
   "name": "python3"
  },
  "language_info": {
   "codemirror_mode": {
    "name": "ipython",
    "version": 3
   },
   "file_extension": ".py",
   "mimetype": "text/x-python",
   "name": "python",
   "nbconvert_exporter": "python",
   "pygments_lexer": "ipython3",
   "version": "3.11.1"
  },
  "orig_nbformat": 4
 },
 "nbformat": 4,
 "nbformat_minor": 2
}
