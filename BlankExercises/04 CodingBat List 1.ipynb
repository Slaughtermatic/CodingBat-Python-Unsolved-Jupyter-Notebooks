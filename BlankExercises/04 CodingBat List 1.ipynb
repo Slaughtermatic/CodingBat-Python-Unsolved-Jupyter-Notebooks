{
 "cells": [
  {
   "attachments": {},
   "cell_type": "markdown",
   "metadata": {},
   "source": [
    "# [List 1](https://codingbat.com/python/List-1)\n",
    "---"
   ]
  },
  {
   "cell_type": "code",
   "execution_count": null,
   "metadata": {},
   "outputs": [],
   "source": [
    "# first_last6\n",
    "\n",
    "\"\"\"\n",
    "Given an array of ints, return True if 6 appears as either the first or last element in the array.\n",
    "The array will be length 1 or more.\n",
    "\"\"\"\n",
    "\n",
    "\n",
    "def first_last6(nums):\n",
    "    pass\n",
    "\n",
    "\n",
    "print(first_last6([1, 2, 6]))  # → True\n",
    "print(first_last6([6, 1, 2, 3]))  # → True\n",
    "print(first_last6([13, 6, 1, 2, 3]))  # → False"
   ]
  },
  {
   "cell_type": "code",
   "execution_count": null,
   "metadata": {},
   "outputs": [],
   "source": [
    "# same_first_last\n",
    "\n",
    "\"\"\"\n",
    "Given an array of ints, return True if the array is \n",
    "length 1 or more, and the first element and the \n",
    "last element are equal.\n",
    "\"\"\"\n",
    "\n",
    "\n",
    "def same_first_last(nums):\n",
    "    pass\n",
    "\n",
    "\n",
    "print(same_first_last([1, 2, 3]))  # → False\n",
    "print(same_first_last([1, 2, 3, 1]))  # → True\n",
    "print(same_first_last([1, 2, 1]))  # → True"
   ]
  },
  {
   "cell_type": "code",
   "execution_count": null,
   "metadata": {},
   "outputs": [],
   "source": [
    "# make_pi\n",
    "\n",
    "\"\"\"\n",
    "Return an int array length 3 containing the \n",
    "first 3 digits of pi, {3, 1, 4}.\n",
    "\"\"\"\n",
    "\n",
    "\n",
    "def make_pi():\n",
    "    pass\n",
    "\n",
    "\n",
    "print(make_pi())  # → [3, 1, 4]"
   ]
  },
  {
   "cell_type": "code",
   "execution_count": null,
   "metadata": {},
   "outputs": [],
   "source": [
    "# common_end\n",
    "\n",
    "\"\"\"\n",
    "Given 2 arrays of ints, a and b, return True \n",
    "if they have the same first element or they \n",
    "have the same last element.\n",
    "Both arrays will be length 1 or more.\n",
    "\"\"\"\n",
    "\n",
    "\n",
    "def common_end(a, b):\n",
    "    pass\n",
    "\n",
    "\n",
    "print(common_end([1, 2, 3], [7, 3]))  # → True\n",
    "print(common_end([1, 2, 3], [7, 3, 2]))  # → False\n",
    "print(common_end([1, 2, 3], [1, 3]))  # → True"
   ]
  },
  {
   "cell_type": "code",
   "execution_count": null,
   "metadata": {},
   "outputs": [],
   "source": [
    "# sum3\n",
    "\n",
    "\"\"\"\n",
    "Given an array of ints length 3, \n",
    "return the sum of all the elements.\n",
    "\"\"\"\n",
    "\n",
    "\n",
    "def sum3(nums):\n",
    "    pass\n",
    "\n",
    "\n",
    "print(sum3([1, 2, 3]))  # → 6\n",
    "print(sum3([5, 11, 2]))  # → 18\n",
    "print(sum3([7, 0, 0]))  # → 7"
   ]
  },
  {
   "cell_type": "code",
   "execution_count": null,
   "metadata": {},
   "outputs": [],
   "source": [
    "# rotate_left3\n",
    "\n",
    "\"\"\"\n",
    "Given an array of ints length 3, return \n",
    "an array with the elements \"rotated left\" \n",
    "so {1, 2, 3} yields {2, 3, 1}.\n",
    "\"\"\"\n",
    "\n",
    "\n",
    "def rotate_left3(nums):\n",
    "    pass\n",
    "\n",
    "\n",
    "print(rotate_left3([1, 2, 3]))  # → [2, 3, 1]\n",
    "print(rotate_left3([5, 11, 9]))  # → [11, 9, 5]\n",
    "print(rotate_left3([7, 0, 0]))  # → [0, 0, 7]"
   ]
  },
  {
   "cell_type": "code",
   "execution_count": null,
   "metadata": {},
   "outputs": [],
   "source": [
    "# reverse3\n",
    "\n",
    "\"\"\"\n",
    "Given an array of ints length 3, \n",
    "return a new array with the elements \n",
    "in reverse order, so {1, 2, 3} becomes \n",
    "{3, 2, 1}.\n",
    "\"\"\"\n",
    "\n",
    "\n",
    "def reverse3(nums):\n",
    "    pass\n",
    "\n",
    "\n",
    "print(reverse3([1, 2, 3]))  # → [3, 2, 1]\n",
    "print(reverse3([5, 11, 9]))  # → [9, 11, 5]"
   ]
  }
 ],
 "metadata": {
  "kernelspec": {
   "display_name": "Python 3",
   "language": "python",
   "name": "python3"
  },
  "language_info": {
   "codemirror_mode": {
    "name": "ipython",
    "version": 3
   },
   "file_extension": ".py",
   "mimetype": "text/x-python",
   "name": "python",
   "nbconvert_exporter": "python",
   "pygments_lexer": "ipython3",
   "version": "3.11.1"
  },
  "orig_nbformat": 4
 },
 "nbformat": 4,
 "nbformat_minor": 2
}
