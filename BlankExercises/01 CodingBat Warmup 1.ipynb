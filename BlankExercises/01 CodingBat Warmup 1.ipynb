{
 "cells": [
  {
   "attachments": {},
   "cell_type": "markdown",
   "metadata": {},
   "source": [
    "# Warmup 1"
   ]
  },
  {
   "attachments": {},
   "cell_type": "markdown",
   "metadata": {},
   "source": [
    "https://codingbat.com/python/Warmup-1"
   ]
  },
  {
   "cell_type": "code",
   "execution_count": null,
   "metadata": {},
   "outputs": [],
   "source": [
    "# Sleep In\n",
    "\"\"\"The parameter weekday is True if it is a weekday,\n",
    "    and the parameter vacation is True if we are on vacation.\n",
    "    We sleep in if it is not a weekday or we're on vacation.\n",
    "    Return True if we sleep in.\"\"\"\n",
    "\n",
    "\n",
    "def sleep_in(weekday, vacation):\n",
    "    pass\n",
    "\n",
    "\n",
    "sleep_in(False, False)  # → True\n",
    "sleep_in(True, False)  # → False\n",
    "sleep_in(False, True)  # → True"
   ]
  },
  {
   "cell_type": "code",
   "execution_count": null,
   "metadata": {},
   "outputs": [],
   "source": [
    "# Monkey Trouble\n",
    "\"\"\"We have two monkeys, a and b, and the parameters\n",
    "    a_smile and b_smile indicate if each is smiling.\n",
    "    We are in trouble if they are both smiling or if neither\n",
    "    of them is smiling. Return True if we are in trouble.\"\"\"\n",
    "\n",
    "\n",
    "def monkey_trouble(a_smile, b_smile):\n",
    "    pass\n",
    "\n",
    "\n",
    "monkey_trouble(True, True)  # → True\n",
    "monkey_trouble(False, False)  # → True\n",
    "monkey_trouble(True, False)  # → False"
   ]
  },
  {
   "cell_type": "code",
   "execution_count": null,
   "metadata": {},
   "outputs": [],
   "source": [
    "# Sum Double\n",
    "\"\"\"Given two int values, return their sum.\n",
    "    Unless the two values are the same, then\n",
    "    return double their sum.\"\"\"\n",
    "\n",
    "\n",
    "def sum_double(a, b):\n",
    "    pass\n",
    "\n",
    "\n",
    "sum_double(1, 2)  # → 3\n",
    "sum_double(3, 2)  # → 5\n",
    "sum_double(2, 2)  # → 8"
   ]
  },
  {
   "cell_type": "code",
   "execution_count": null,
   "metadata": {},
   "outputs": [],
   "source": [
    "# Diff 21\n",
    "\"\"\"Given an int n, return the absolute difference\n",
    "    between n and 21, except return double the absolute\n",
    "    difference if n is over 21.\"\"\"\n",
    "\n",
    "\n",
    "def diff21(n):\n",
    "    pass\n",
    "\n",
    "\n",
    "diff21(19)  # → 2\n",
    "diff21(10)  # → 11\n",
    "diff21(21)  # → 0"
   ]
  },
  {
   "cell_type": "code",
   "execution_count": null,
   "metadata": {},
   "outputs": [],
   "source": [
    "# Parrot Trouble\n",
    "\"\"\"We have a loud talking parrot. The \"hour\" parameter\n",
    "    is the current hour time in the range 0..23. We are in\n",
    "    trouble if the parrot is talking and the hour is before\n",
    "    7 or after 20. Return True if we are in trouble.\"\"\"\n",
    "\n",
    "\n",
    "def parrot_trouble(talking, hour):\n",
    "    pass\n",
    "\n",
    "\n",
    "parrot_trouble(True, 6)  # → True\n",
    "parrot_trouble(True, 7)  # → False\n",
    "parrot_trouble(False, 6)  # → False"
   ]
  },
  {
   "cell_type": "code",
   "execution_count": null,
   "metadata": {},
   "outputs": [],
   "source": [
    "# Makes 10\n",
    "\"\"\"Given 2 ints, a and b, return True if\n",
    "    one if them is 10 or if their sum is 10.\"\"\"\n",
    "\n",
    "\n",
    "def makes10(a, b):\n",
    "    pass\n",
    "\n",
    "\n",
    "makes10(9, 10)  # → True\n",
    "makes10(9, 9)  # → False\n",
    "makes10(1, 9)  # → True"
   ]
  },
  {
   "cell_type": "code",
   "execution_count": null,
   "metadata": {},
   "outputs": [],
   "source": [
    "# Near Hundred\n",
    "\"\"\"Given an int n, return True if it is within\n",
    "    10 of 100 or 200. Note: abs(num) computes the\n",
    "    absolute value of a number.\"\"\"\n",
    "\n",
    "\n",
    "def near_hundred(n):\n",
    "    pass\n",
    "\n",
    "\n",
    "near_hundred(93)  # → True\n",
    "near_hundred(90)  # → True\n",
    "near_hundred(89)  # → False"
   ]
  },
  {
   "cell_type": "code",
   "execution_count": null,
   "metadata": {},
   "outputs": [],
   "source": [
    "# Pos Neg\n",
    "\"\"\"Given 2 int values, return True if one is\n",
    "    negative and one is positive. Except if the\n",
    "    parameter \"negative\" is True, then return True\n",
    "    only if both are negative.\"\"\"\n",
    "\n",
    "\n",
    "def pos_neg(a, b, negative):\n",
    "    pass\n",
    "\n",
    "\n",
    "pos_neg(1, -1, False)  # → True\n",
    "pos_neg(-1, 1, False)  # → True\n",
    "pos_neg(-4, -5, True)  # → True"
   ]
  },
  {
   "cell_type": "code",
   "execution_count": null,
   "metadata": {},
   "outputs": [],
   "source": [
    "# Not String\n",
    "\"\"\"Given a string, return a new string where \"not\"\n",
    "    has been added to the front. However, if the string\n",
    "    already begins with \"not\", return the string unchanged.\"\"\"\n",
    "\n",
    "\n",
    "def not_string(str):\n",
    "    pass\n",
    "\n",
    "\n",
    "not_string(\"candy\")  # → 'not candy'\n",
    "not_string(\"x\")  # → 'not x'\n",
    "not_string(\"not bad\")  # → 'not bad'"
   ]
  },
  {
   "cell_type": "code",
   "execution_count": null,
   "metadata": {},
   "outputs": [],
   "source": [
    "# Missing Char\n",
    "\"\"\"Given a non-empty string and an int n, return\n",
    "    a new string where the char at index n has been\n",
    "    removed. The value of n will be a valid index of\n",
    "    a char in the original string (i.e. n will be in\n",
    "    the range 0..len(str)-1 inclusive).\"\"\"\n",
    "\n",
    "\n",
    "def missing_char(str, n):\n",
    "    pass\n",
    "\n",
    "\n",
    "missing_char(\"kitten\", 1)  # → 'ktten'\n",
    "missing_char(\"kitten\", 0)  # → 'itten'\n",
    "missing_char(\"kitten\", 4)  # → 'kittn'"
   ]
  },
  {
   "cell_type": "code",
   "execution_count": null,
   "metadata": {},
   "outputs": [],
   "source": [
    "# Front Back\n",
    "\"\"\"Given a string, return a new string\n",
    "    where the first and last chars have\n",
    "    been exchanged.\"\"\"\n",
    "\n",
    "\n",
    "def front_back(str):\n",
    "    pass\n",
    "\n",
    "\n",
    "front_back(\"code\")  # → 'eodc'\n",
    "front_back(\"a\")  # → 'a'\n",
    "front_back(\"ab\")  # → 'ba'"
   ]
  },
  {
   "cell_type": "code",
   "execution_count": null,
   "metadata": {},
   "outputs": [],
   "source": [
    "# Front 3\n",
    "\"\"\"Given a string, we'll say that the front\n",
    "    is the first 3 chars of the string. If the\n",
    "    string length is less than 3, the front is\n",
    "    whatever is there. Return a new string which\n",
    "    is 3 copies of the front.\"\"\"\n",
    "\n",
    "\n",
    "def front3(str):\n",
    "    pass\n",
    "\n",
    "\n",
    "front3(\"Java\")  # → 'JavJavJav'\n",
    "front3(\"Chocolate\")  # → 'ChoChoCho'\n",
    "front3(\"abc\")  # → 'abcabcabc'"
   ]
  }
 ],
 "metadata": {
  "kernelspec": {
   "display_name": "Python 3",
   "language": "python",
   "name": "python3"
  },
  "language_info": {
   "codemirror_mode": {
    "name": "ipython",
    "version": 3
   },
   "file_extension": ".py",
   "mimetype": "text/x-python",
   "name": "python",
   "nbconvert_exporter": "python",
   "pygments_lexer": "ipython3",
   "version": "3.11.1"
  },
  "orig_nbformat": 4
 },
 "nbformat": 4,
 "nbformat_minor": 2
}
