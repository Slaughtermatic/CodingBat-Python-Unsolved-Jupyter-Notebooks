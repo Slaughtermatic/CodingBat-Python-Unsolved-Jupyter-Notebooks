{
 "cells": [
  {
   "attachments": {},
   "cell_type": "markdown",
   "metadata": {},
   "source": [
    "## [Logic 1](https://codingbat.com/python/Logic-1)\n",
    "---\n"
   ]
  },
  {
   "cell_type": "code",
   "execution_count": null,
   "metadata": {},
   "outputs": [],
   "source": [
    "# Cigar Party\n",
    "\n",
    "\"\"\"When squirrels get together for \n",
    "a party, they like to have cigars. \n",
    "A squirrel party is successful when \n",
    "the number of cigars is between 40 and \n",
    "60, inclusive. Unless it is the weekend, \n",
    "in which case there is no upper bound on \n",
    "the number of cigars. Return True if the \n",
    "party with the given values is successful, \n",
    "or False otherwise.\"\"\"\n",
    "\n",
    "\n",
    "def cigar_party(cigars, is_weekend):\n",
    "    pass\n",
    "\n",
    "\n",
    "print(cigar_party(30, False))  # → False\n",
    "print(cigar_party(50, False))  # → True\n",
    "print(cigar_party(70, True))  # → True"
   ]
  },
  {
   "cell_type": "code",
   "execution_count": null,
   "metadata": {},
   "outputs": [],
   "source": [
    "# Date Fashion\n",
    "\n",
    "\"\"\"You and your date are trying to get \n",
    "a table at a restaurant. The parameter \n",
    "\"you\" is the stylishness of your clothes, \n",
    "in the range 0..10, and \"date\" is the stylishness \n",
    "of your date's clothes. The result getting the table \n",
    "is encoded as an int value with 0=no, 1=maybe, 2=yes. \n",
    "If either of you is very stylish, 8 or more, then the \n",
    "result is 2 (yes). With the exception that if either of \n",
    "you has style of 2 or less, then the result is 0 (no). \n",
    "Otherwise the result is 1 (maybe).\"\"\"\n",
    "\n",
    "\n",
    "def date_fashion(you, date):\n",
    "    pass\n",
    "\n",
    "\n",
    "print(date_fashion(5, 10))  # → 2\n",
    "print(date_fashion(5, 2))  # → 0\n",
    "print(date_fashion(5, 5))  # → 1"
   ]
  },
  {
   "cell_type": "code",
   "execution_count": null,
   "metadata": {},
   "outputs": [],
   "source": [
    "# Squirrel Play\n",
    "\n",
    "\"\"\"The squirrels in Palo Alto spend most of the day \n",
    "playing. In particular, they play if the temperature \n",
    "is between 60 and 90 (inclusive). Unless it is summer, \n",
    "then the upper limit is 100 instead of 90. Given an int \n",
    "temperature and a boolean is_summer, return True if the \n",
    "squirrels play and False otherwise.\"\"\"\n",
    "\n",
    "\n",
    "def squirrel_play(temp, is_summer):\n",
    "    pass\n",
    "\n",
    "\n",
    "print(squirrel_play(70, False))  # → True\n",
    "print(squirrel_play(95, False))  # → False\n",
    "print(squirrel_play(95, True))  # → True"
   ]
  },
  {
   "cell_type": "code",
   "execution_count": null,
   "metadata": {},
   "outputs": [],
   "source": [
    "# Caught Speeding\n",
    "\n",
    "\"\"\"You are driving a little too fast, and \n",
    "a police officer stops you. Write code to \n",
    "compute the result, encoded as an int value: \n",
    "0=no ticket, 1=small ticket, 2=big ticket. \n",
    "If speed is 60 or less, the result is 0. \n",
    "If speed is between 61 and 80 inclusive, \n",
    "the result is 1. If speed is 81 or more, \n",
    "the result is 2. Unless it is your birthday \n",
    "-- on that day, your speed can be 5 higher \n",
    "in all cases.\"\"\"\n",
    "\n",
    "\n",
    "def caught_speeding(speed, is_birthday):\n",
    "    pass\n",
    "\n",
    "\n",
    "print(caught_speeding(60, False))  # → 0\n",
    "print(caught_speeding(65, False))  # → 1\n",
    "print(caught_speeding(65, True))  # → 0"
   ]
  },
  {
   "cell_type": "code",
   "execution_count": null,
   "metadata": {},
   "outputs": [],
   "source": [
    "# Sorta Sum\n",
    "\n",
    "\"\"\"Given 2 ints, a and b, return their sum. \n",
    "However, sums in the range 10..19 inclusive, \n",
    "are forbidden, so in that case just return 20.\"\"\"\n",
    "\n",
    "\n",
    "def sorta_sum(a, b):\n",
    "    pass\n",
    "\n",
    "\n",
    "print(sorta_sum(3, 4))  # → 7\n",
    "print(sorta_sum(9, 4))  # → 20\n",
    "print(sorta_sum(10, 11))  # → 21"
   ]
  },
  {
   "cell_type": "code",
   "execution_count": null,
   "metadata": {},
   "outputs": [],
   "source": [
    "# Alarm Clock\n",
    "\n",
    "\"\"\"Given a day of the week encoded as 0=Sun, \n",
    "1=Mon, 2=Tue, ...6=Sat, and a boolean indicating \n",
    "if we are on vacation, return a string of the form \n",
    "\"7:00\" indicating when the alarm clock should ring. \n",
    "Weekdays, the alarm should be \"7:00\" and on the weekend \n",
    "it should be \"10:00\". Unless we are on vacation -- then \n",
    "on weekdays it should be \"10:00\" and weekends it should \n",
    "be \"off\".\"\"\"\n",
    "\n",
    "\n",
    "def alarm_clock(day, vacation):\n",
    "    pass\n",
    "\n",
    "\n",
    "print(alarm_clock(1, False))  # → '7:00'\n",
    "print(alarm_clock(5, False))  # → '7:00'\n",
    "print(alarm_clock(0, False))  # → '10:00'"
   ]
  },
  {
   "cell_type": "code",
   "execution_count": null,
   "metadata": {},
   "outputs": [],
   "source": [
    "# Love6\n",
    "\n",
    "\"\"\"The number 6 is a truly great number. \n",
    "Given two int values, a and b, return True \n",
    "if either one is 6. Or if their sum or difference \n",
    "is 6. Note: the function abs(num) computes the \n",
    "absolute value of a number.\"\"\"\n",
    "\n",
    "\n",
    "def love6(a, b):\n",
    "    pass\n",
    "\n",
    "\n",
    "print(love6(6, 4))  # → True\n",
    "print(love6(4, 5))  # → False\n",
    "print(love6(1, 5))  # → True\n",
    "print(love6(1, 7))  #  → True"
   ]
  },
  {
   "cell_type": "code",
   "execution_count": null,
   "metadata": {},
   "outputs": [],
   "source": [
    "# in1to10\n",
    "\n",
    "\"\"\"Given a number n, return True if n is \n",
    "in the range 1..10, inclusive. Unless \n",
    "outside_mode is True, in which case return \n",
    "True if the number is less or equal to 1, \n",
    "or greater or equal to 10.\"\"\"\n",
    "\n",
    "\n",
    "def in1to10(n, outside_mode):\n",
    "    pass\n",
    "\n",
    "\n",
    "print(in1to10(5, False))  # → True\n",
    "print(in1to10(11, False))  # → False\n",
    "print(in1to10(11, True))  # → True\n",
    "print(in1to10(9, True))  # → False"
   ]
  },
  {
   "cell_type": "code",
   "execution_count": null,
   "metadata": {},
   "outputs": [],
   "source": [
    "# Near ten\n",
    "\n",
    "\"\"\"Given a non-negative number \"num\", \n",
    "return True if num is within 2 of a \n",
    "multiple of 10. Note: (a % b) is the \n",
    "remainder of dividing a by b, so (7 % 5) \n",
    "is 2. See also: Introduction to Mod\"\"\"\n",
    "\n",
    "\n",
    "def near_ten(num):\n",
    "    pass\n",
    "\n",
    "\n",
    "print(near_ten(12))  # → True\n",
    "print(near_ten(17))  # → False\n",
    "print(near_ten(19))  # → True"
   ]
  }
 ],
 "metadata": {
  "kernelspec": {
   "display_name": "Python 3",
   "language": "python",
   "name": "python3"
  },
  "language_info": {
   "codemirror_mode": {
    "name": "ipython",
    "version": 3
   },
   "file_extension": ".py",
   "mimetype": "text/x-python",
   "name": "python",
   "nbconvert_exporter": "python",
   "pygments_lexer": "ipython3",
   "version": "3.11.1"
  },
  "orig_nbformat": 4
 },
 "nbformat": 4,
 "nbformat_minor": 2
}
